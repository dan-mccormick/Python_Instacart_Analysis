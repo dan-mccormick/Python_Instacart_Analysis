{
 "cells": [
  {
   "cell_type": "code",
   "execution_count": 1,
   "id": "51affb96",
   "metadata": {},
   "outputs": [],
   "source": [
    "import pandas as pd\n",
    "import numpy as np\n",
    "import os\n",
    "import matplotlib.pyplot as plt\n",
    "import seaborn as sns\n",
    "import scipy"
   ]
  },
  {
   "cell_type": "code",
   "execution_count": 2,
   "id": "1cc9c306",
   "metadata": {},
   "outputs": [],
   "source": [
    "path = r'/Users/danielmccormick/Desktop/CareerFoundry/Python/08-23 Instacart Basket Analysis'"
   ]
  },
  {
   "cell_type": "code",
   "execution_count": 3,
   "id": "0057df02",
   "metadata": {},
   "outputs": [],
   "source": [
    "df_instacart = pd.read_pickle(os.path.join(path, 'IC_Data', 'IC_prepared_data', 'instacart_total_data'))"
   ]
  },
  {
   "cell_type": "code",
   "execution_count": 4,
   "id": "8238af6e",
   "metadata": {},
   "outputs": [
    {
     "data": {
      "text/html": [
       "<div>\n",
       "<style scoped>\n",
       "    .dataframe tbody tr th:only-of-type {\n",
       "        vertical-align: middle;\n",
       "    }\n",
       "\n",
       "    .dataframe tbody tr th {\n",
       "        vertical-align: top;\n",
       "    }\n",
       "\n",
       "    .dataframe thead th {\n",
       "        text-align: right;\n",
       "    }\n",
       "</style>\n",
       "<table border=\"1\" class=\"dataframe\">\n",
       "  <thead>\n",
       "    <tr style=\"text-align: right;\">\n",
       "      <th></th>\n",
       "      <th>user_id</th>\n",
       "      <th>user_gender</th>\n",
       "      <th>user_state</th>\n",
       "      <th>user_age</th>\n",
       "      <th>user_date_joined</th>\n",
       "      <th>user_num_dependents</th>\n",
       "      <th>user_marriage_stat</th>\n",
       "      <th>user_income</th>\n",
       "      <th>order_id</th>\n",
       "      <th>user_order_count</th>\n",
       "      <th>...</th>\n",
       "      <th>busiest_day</th>\n",
       "      <th>busiest_days</th>\n",
       "      <th>busiest_period_of_day</th>\n",
       "      <th>max_order</th>\n",
       "      <th>loyalty_flag</th>\n",
       "      <th>user_avg_price</th>\n",
       "      <th>spending_flag</th>\n",
       "      <th>user_med_days_since_order</th>\n",
       "      <th>frequency_flag</th>\n",
       "      <th>_merge</th>\n",
       "    </tr>\n",
       "  </thead>\n",
       "  <tbody>\n",
       "    <tr>\n",
       "      <th>0</th>\n",
       "      <td>26711</td>\n",
       "      <td>Female</td>\n",
       "      <td>Missouri</td>\n",
       "      <td>48</td>\n",
       "      <td>1/1/2017</td>\n",
       "      <td>3</td>\n",
       "      <td>married</td>\n",
       "      <td>165665</td>\n",
       "      <td>2543867</td>\n",
       "      <td>5</td>\n",
       "      <td>...</td>\n",
       "      <td>Regularly busy</td>\n",
       "      <td>Busier Days</td>\n",
       "      <td>Average Orders</td>\n",
       "      <td>8</td>\n",
       "      <td>New Customer</td>\n",
       "      <td>7.988889</td>\n",
       "      <td>Low Spender</td>\n",
       "      <td>19.0</td>\n",
       "      <td>Regular customer</td>\n",
       "      <td>both</td>\n",
       "    </tr>\n",
       "    <tr>\n",
       "      <th>1</th>\n",
       "      <td>26711</td>\n",
       "      <td>Female</td>\n",
       "      <td>Missouri</td>\n",
       "      <td>48</td>\n",
       "      <td>1/1/2017</td>\n",
       "      <td>3</td>\n",
       "      <td>married</td>\n",
       "      <td>165665</td>\n",
       "      <td>1285508</td>\n",
       "      <td>7</td>\n",
       "      <td>...</td>\n",
       "      <td>Regularly busy</td>\n",
       "      <td>Normal Busyness Days</td>\n",
       "      <td>Most Orders</td>\n",
       "      <td>8</td>\n",
       "      <td>New Customer</td>\n",
       "      <td>7.988889</td>\n",
       "      <td>Low Spender</td>\n",
       "      <td>19.0</td>\n",
       "      <td>Regular customer</td>\n",
       "      <td>both</td>\n",
       "    </tr>\n",
       "    <tr>\n",
       "      <th>2</th>\n",
       "      <td>26711</td>\n",
       "      <td>Female</td>\n",
       "      <td>Missouri</td>\n",
       "      <td>48</td>\n",
       "      <td>1/1/2017</td>\n",
       "      <td>3</td>\n",
       "      <td>married</td>\n",
       "      <td>165665</td>\n",
       "      <td>2578584</td>\n",
       "      <td>8</td>\n",
       "      <td>...</td>\n",
       "      <td>Regularly busy</td>\n",
       "      <td>Busier Days</td>\n",
       "      <td>Most Orders</td>\n",
       "      <td>8</td>\n",
       "      <td>New Customer</td>\n",
       "      <td>7.988889</td>\n",
       "      <td>Low Spender</td>\n",
       "      <td>19.0</td>\n",
       "      <td>Regular customer</td>\n",
       "      <td>both</td>\n",
       "    </tr>\n",
       "    <tr>\n",
       "      <th>3</th>\n",
       "      <td>26711</td>\n",
       "      <td>Female</td>\n",
       "      <td>Missouri</td>\n",
       "      <td>48</td>\n",
       "      <td>1/1/2017</td>\n",
       "      <td>3</td>\n",
       "      <td>married</td>\n",
       "      <td>165665</td>\n",
       "      <td>423547</td>\n",
       "      <td>2</td>\n",
       "      <td>...</td>\n",
       "      <td>Regularly busy</td>\n",
       "      <td>Normal Busyness Days</td>\n",
       "      <td>Average Orders</td>\n",
       "      <td>8</td>\n",
       "      <td>New Customer</td>\n",
       "      <td>7.988889</td>\n",
       "      <td>Low Spender</td>\n",
       "      <td>19.0</td>\n",
       "      <td>Regular customer</td>\n",
       "      <td>both</td>\n",
       "    </tr>\n",
       "    <tr>\n",
       "      <th>4</th>\n",
       "      <td>26711</td>\n",
       "      <td>Female</td>\n",
       "      <td>Missouri</td>\n",
       "      <td>48</td>\n",
       "      <td>1/1/2017</td>\n",
       "      <td>3</td>\n",
       "      <td>married</td>\n",
       "      <td>165665</td>\n",
       "      <td>2524893</td>\n",
       "      <td>3</td>\n",
       "      <td>...</td>\n",
       "      <td>Regularly busy</td>\n",
       "      <td>Less Busy Days</td>\n",
       "      <td>Most Orders</td>\n",
       "      <td>8</td>\n",
       "      <td>New Customer</td>\n",
       "      <td>7.988889</td>\n",
       "      <td>Low Spender</td>\n",
       "      <td>19.0</td>\n",
       "      <td>Regular customer</td>\n",
       "      <td>both</td>\n",
       "    </tr>\n",
       "  </tbody>\n",
       "</table>\n",
       "<p>5 rows × 31 columns</p>\n",
       "</div>"
      ],
      "text/plain": [
       "  user_id user_gender user_state  user_age user_date_joined  \\\n",
       "0   26711      Female   Missouri        48         1/1/2017   \n",
       "1   26711      Female   Missouri        48         1/1/2017   \n",
       "2   26711      Female   Missouri        48         1/1/2017   \n",
       "3   26711      Female   Missouri        48         1/1/2017   \n",
       "4   26711      Female   Missouri        48         1/1/2017   \n",
       "\n",
       "   user_num_dependents user_marriage_stat  user_income  order_id  \\\n",
       "0                    3            married       165665   2543867   \n",
       "1                    3            married       165665   1285508   \n",
       "2                    3            married       165665   2578584   \n",
       "3                    3            married       165665    423547   \n",
       "4                    3            married       165665   2524893   \n",
       "\n",
       "   user_order_count  ...     busiest_day          busiest_days  \\\n",
       "0                 5  ...  Regularly busy           Busier Days   \n",
       "1                 7  ...  Regularly busy  Normal Busyness Days   \n",
       "2                 8  ...  Regularly busy           Busier Days   \n",
       "3                 2  ...  Regularly busy  Normal Busyness Days   \n",
       "4                 3  ...  Regularly busy        Less Busy Days   \n",
       "\n",
       "   busiest_period_of_day  max_order  loyalty_flag  user_avg_price  \\\n",
       "0         Average Orders          8  New Customer        7.988889   \n",
       "1            Most Orders          8  New Customer        7.988889   \n",
       "2            Most Orders          8  New Customer        7.988889   \n",
       "3         Average Orders          8  New Customer        7.988889   \n",
       "4            Most Orders          8  New Customer        7.988889   \n",
       "\n",
       "  spending_flag  user_med_days_since_order    frequency_flag  _merge  \n",
       "0   Low Spender                       19.0  Regular customer    both  \n",
       "1   Low Spender                       19.0  Regular customer    both  \n",
       "2   Low Spender                       19.0  Regular customer    both  \n",
       "3   Low Spender                       19.0  Regular customer    both  \n",
       "4   Low Spender                       19.0  Regular customer    both  \n",
       "\n",
       "[5 rows x 31 columns]"
      ]
     },
     "execution_count": 4,
     "metadata": {},
     "output_type": "execute_result"
    }
   ],
   "source": [
    "# Creating a cross tab of days since prior order and user order count. I am trying to confirm that for all values of \n",
    "# NaN in the days since prior order column, that the only user order count associated with that row is 1. \n",
    "# this will confirm that the only missing values in the days since prior order column are those for the user's first \n",
    "# order and are thus not in error. \n",
    "df_instacart.head()"
   ]
  },
  {
   "cell_type": "code",
   "execution_count": 5,
   "id": "f642b064",
   "metadata": {},
   "outputs": [],
   "source": [
    "crosstab = pd.crosstab(df_instacart['days_since_prior_order'], df_instacart['user_order_count'], dropna = False)"
   ]
  },
  {
   "cell_type": "code",
   "execution_count": 6,
   "id": "c8577652",
   "metadata": {},
   "outputs": [],
   "source": [
    "crosstab.to_clipboard()"
   ]
  },
  {
   "cell_type": "code",
   "execution_count": 7,
   "id": "ca197b5c",
   "metadata": {},
   "outputs": [
    {
     "data": {
      "text/plain": [
       "30.0"
      ]
     },
     "execution_count": 7,
     "metadata": {},
     "output_type": "execute_result"
    }
   ],
   "source": [
    "df_instacart['days_since_prior_order'].max()"
   ]
  },
  {
   "cell_type": "code",
   "execution_count": 8,
   "id": "bc6cafab",
   "metadata": {},
   "outputs": [
    {
     "data": {
      "text/plain": [
       "99"
      ]
     },
     "execution_count": 8,
     "metadata": {},
     "output_type": "execute_result"
    }
   ],
   "source": [
    "df_instacart['user_order_count'].max()"
   ]
  },
  {
   "cell_type": "code",
   "execution_count": null,
   "id": "6e6bb574",
   "metadata": {},
   "outputs": [],
   "source": []
  }
 ],
 "metadata": {
  "kernelspec": {
   "display_name": "Python 3 (ipykernel)",
   "language": "python",
   "name": "python3"
  },
  "language_info": {
   "codemirror_mode": {
    "name": "ipython",
    "version": 3
   },
   "file_extension": ".py",
   "mimetype": "text/x-python",
   "name": "python",
   "nbconvert_exporter": "python",
   "pygments_lexer": "ipython3",
   "version": "3.9.13"
  }
 },
 "nbformat": 4,
 "nbformat_minor": 5
}
