{
 "cells": [
  {
   "cell_type": "code",
   "execution_count": 1,
   "id": "efda0383",
   "metadata": {},
   "outputs": [],
   "source": [
    "# installing libraries \n",
    "import pandas as pd\n",
    "import numpy as np\n",
    "import os\n",
    "import matplotlib.pyplot as plt\n",
    "import seaborn as sns\n",
    "import scipy"
   ]
  },
  {
   "cell_type": "code",
   "execution_count": 2,
   "id": "c30c9451",
   "metadata": {},
   "outputs": [],
   "source": [
    "path = r'/Users/danielmccormick/Desktop/CareerFoundry/Python/08-23 Instacart Basket Analysis'"
   ]
  },
  {
   "cell_type": "code",
   "execution_count": 3,
   "id": "b81405f7",
   "metadata": {},
   "outputs": [],
   "source": [
    "# importing most up to date data set\n",
    "ords_prods_merge = pd.read_pickle(os.path.join(path, 'IC_Data', 'IC_prepared_data', 'orders_products_updated_4.8_v2.pkl'))"
   ]
  },
  {
   "cell_type": "code",
   "execution_count": 4,
   "id": "29ea63d8",
   "metadata": {},
   "outputs": [
    {
     "data": {
      "text/html": [
       "<div>\n",
       "<style scoped>\n",
       "    .dataframe tbody tr th:only-of-type {\n",
       "        vertical-align: middle;\n",
       "    }\n",
       "\n",
       "    .dataframe tbody tr th {\n",
       "        vertical-align: top;\n",
       "    }\n",
       "\n",
       "    .dataframe thead th {\n",
       "        text-align: right;\n",
       "    }\n",
       "</style>\n",
       "<table border=\"1\" class=\"dataframe\">\n",
       "  <thead>\n",
       "    <tr style=\"text-align: right;\">\n",
       "      <th></th>\n",
       "      <th>order_id</th>\n",
       "      <th>user_id</th>\n",
       "      <th>user_order_count</th>\n",
       "      <th>orders_day_of_week</th>\n",
       "      <th>order_hour_of_day</th>\n",
       "      <th>days_since_prior_order</th>\n",
       "      <th>product_id</th>\n",
       "      <th>add_to_cart_order</th>\n",
       "      <th>reordered</th>\n",
       "      <th>product_name</th>\n",
       "      <th>...</th>\n",
       "      <th>price_range_loc</th>\n",
       "      <th>busiest_day</th>\n",
       "      <th>busiest_days</th>\n",
       "      <th>busiest_period_of_day</th>\n",
       "      <th>max_order</th>\n",
       "      <th>loyalty_flag</th>\n",
       "      <th>user_avg_price</th>\n",
       "      <th>spending_flag</th>\n",
       "      <th>user_med_days_since_order</th>\n",
       "      <th>frequency_flag</th>\n",
       "    </tr>\n",
       "  </thead>\n",
       "  <tbody>\n",
       "    <tr>\n",
       "      <th>0</th>\n",
       "      <td>2539329</td>\n",
       "      <td>1</td>\n",
       "      <td>1</td>\n",
       "      <td>2</td>\n",
       "      <td>8</td>\n",
       "      <td>NaN</td>\n",
       "      <td>196</td>\n",
       "      <td>1</td>\n",
       "      <td>0</td>\n",
       "      <td>Soda</td>\n",
       "      <td>...</td>\n",
       "      <td>Mid-range product</td>\n",
       "      <td>Regularly busy</td>\n",
       "      <td>Normal Busyness Days</td>\n",
       "      <td>Average Orders</td>\n",
       "      <td>10</td>\n",
       "      <td>New Customer</td>\n",
       "      <td>6.367797</td>\n",
       "      <td>Low Spender</td>\n",
       "      <td>20.5</td>\n",
       "      <td>Non-frequent customer</td>\n",
       "    </tr>\n",
       "    <tr>\n",
       "      <th>1</th>\n",
       "      <td>2398795</td>\n",
       "      <td>1</td>\n",
       "      <td>2</td>\n",
       "      <td>3</td>\n",
       "      <td>7</td>\n",
       "      <td>15.0</td>\n",
       "      <td>196</td>\n",
       "      <td>1</td>\n",
       "      <td>1</td>\n",
       "      <td>Soda</td>\n",
       "      <td>...</td>\n",
       "      <td>Mid-range product</td>\n",
       "      <td>Regularly busy</td>\n",
       "      <td>Less Busy Days</td>\n",
       "      <td>Average Orders</td>\n",
       "      <td>10</td>\n",
       "      <td>New Customer</td>\n",
       "      <td>6.367797</td>\n",
       "      <td>Low Spender</td>\n",
       "      <td>20.5</td>\n",
       "      <td>Non-frequent customer</td>\n",
       "    </tr>\n",
       "    <tr>\n",
       "      <th>2</th>\n",
       "      <td>473747</td>\n",
       "      <td>1</td>\n",
       "      <td>3</td>\n",
       "      <td>3</td>\n",
       "      <td>12</td>\n",
       "      <td>21.0</td>\n",
       "      <td>196</td>\n",
       "      <td>1</td>\n",
       "      <td>1</td>\n",
       "      <td>Soda</td>\n",
       "      <td>...</td>\n",
       "      <td>Mid-range product</td>\n",
       "      <td>Regularly busy</td>\n",
       "      <td>Less Busy Days</td>\n",
       "      <td>Average Orders</td>\n",
       "      <td>10</td>\n",
       "      <td>New Customer</td>\n",
       "      <td>6.367797</td>\n",
       "      <td>Low Spender</td>\n",
       "      <td>20.5</td>\n",
       "      <td>Non-frequent customer</td>\n",
       "    </tr>\n",
       "    <tr>\n",
       "      <th>3</th>\n",
       "      <td>2254736</td>\n",
       "      <td>1</td>\n",
       "      <td>4</td>\n",
       "      <td>4</td>\n",
       "      <td>7</td>\n",
       "      <td>29.0</td>\n",
       "      <td>196</td>\n",
       "      <td>1</td>\n",
       "      <td>1</td>\n",
       "      <td>Soda</td>\n",
       "      <td>...</td>\n",
       "      <td>Mid-range product</td>\n",
       "      <td>Least busy</td>\n",
       "      <td>Less Busy Days</td>\n",
       "      <td>Average Orders</td>\n",
       "      <td>10</td>\n",
       "      <td>New Customer</td>\n",
       "      <td>6.367797</td>\n",
       "      <td>Low Spender</td>\n",
       "      <td>20.5</td>\n",
       "      <td>Non-frequent customer</td>\n",
       "    </tr>\n",
       "    <tr>\n",
       "      <th>4</th>\n",
       "      <td>431534</td>\n",
       "      <td>1</td>\n",
       "      <td>5</td>\n",
       "      <td>4</td>\n",
       "      <td>15</td>\n",
       "      <td>28.0</td>\n",
       "      <td>196</td>\n",
       "      <td>1</td>\n",
       "      <td>1</td>\n",
       "      <td>Soda</td>\n",
       "      <td>...</td>\n",
       "      <td>Mid-range product</td>\n",
       "      <td>Least busy</td>\n",
       "      <td>Less Busy Days</td>\n",
       "      <td>Most Orders</td>\n",
       "      <td>10</td>\n",
       "      <td>New Customer</td>\n",
       "      <td>6.367797</td>\n",
       "      <td>Low Spender</td>\n",
       "      <td>20.5</td>\n",
       "      <td>Non-frequent customer</td>\n",
       "    </tr>\n",
       "    <tr>\n",
       "      <th>5</th>\n",
       "      <td>3367565</td>\n",
       "      <td>1</td>\n",
       "      <td>6</td>\n",
       "      <td>2</td>\n",
       "      <td>7</td>\n",
       "      <td>19.0</td>\n",
       "      <td>196</td>\n",
       "      <td>1</td>\n",
       "      <td>1</td>\n",
       "      <td>Soda</td>\n",
       "      <td>...</td>\n",
       "      <td>Mid-range product</td>\n",
       "      <td>Regularly busy</td>\n",
       "      <td>Normal Busyness Days</td>\n",
       "      <td>Average Orders</td>\n",
       "      <td>10</td>\n",
       "      <td>New Customer</td>\n",
       "      <td>6.367797</td>\n",
       "      <td>Low Spender</td>\n",
       "      <td>20.5</td>\n",
       "      <td>Non-frequent customer</td>\n",
       "    </tr>\n",
       "    <tr>\n",
       "      <th>6</th>\n",
       "      <td>550135</td>\n",
       "      <td>1</td>\n",
       "      <td>7</td>\n",
       "      <td>1</td>\n",
       "      <td>9</td>\n",
       "      <td>20.0</td>\n",
       "      <td>196</td>\n",
       "      <td>1</td>\n",
       "      <td>1</td>\n",
       "      <td>Soda</td>\n",
       "      <td>...</td>\n",
       "      <td>Mid-range product</td>\n",
       "      <td>Regularly busy</td>\n",
       "      <td>Busier Days</td>\n",
       "      <td>Average Orders</td>\n",
       "      <td>10</td>\n",
       "      <td>New Customer</td>\n",
       "      <td>6.367797</td>\n",
       "      <td>Low Spender</td>\n",
       "      <td>20.5</td>\n",
       "      <td>Non-frequent customer</td>\n",
       "    </tr>\n",
       "    <tr>\n",
       "      <th>7</th>\n",
       "      <td>3108588</td>\n",
       "      <td>1</td>\n",
       "      <td>8</td>\n",
       "      <td>1</td>\n",
       "      <td>14</td>\n",
       "      <td>14.0</td>\n",
       "      <td>196</td>\n",
       "      <td>2</td>\n",
       "      <td>1</td>\n",
       "      <td>Soda</td>\n",
       "      <td>...</td>\n",
       "      <td>Mid-range product</td>\n",
       "      <td>Regularly busy</td>\n",
       "      <td>Busier Days</td>\n",
       "      <td>Most Orders</td>\n",
       "      <td>10</td>\n",
       "      <td>New Customer</td>\n",
       "      <td>6.367797</td>\n",
       "      <td>Low Spender</td>\n",
       "      <td>20.5</td>\n",
       "      <td>Non-frequent customer</td>\n",
       "    </tr>\n",
       "    <tr>\n",
       "      <th>8</th>\n",
       "      <td>2295261</td>\n",
       "      <td>1</td>\n",
       "      <td>9</td>\n",
       "      <td>1</td>\n",
       "      <td>16</td>\n",
       "      <td>0.0</td>\n",
       "      <td>196</td>\n",
       "      <td>4</td>\n",
       "      <td>1</td>\n",
       "      <td>Soda</td>\n",
       "      <td>...</td>\n",
       "      <td>Mid-range product</td>\n",
       "      <td>Regularly busy</td>\n",
       "      <td>Busier Days</td>\n",
       "      <td>Average Orders</td>\n",
       "      <td>10</td>\n",
       "      <td>New Customer</td>\n",
       "      <td>6.367797</td>\n",
       "      <td>Low Spender</td>\n",
       "      <td>20.5</td>\n",
       "      <td>Non-frequent customer</td>\n",
       "    </tr>\n",
       "    <tr>\n",
       "      <th>9</th>\n",
       "      <td>2550362</td>\n",
       "      <td>1</td>\n",
       "      <td>10</td>\n",
       "      <td>4</td>\n",
       "      <td>8</td>\n",
       "      <td>30.0</td>\n",
       "      <td>196</td>\n",
       "      <td>1</td>\n",
       "      <td>1</td>\n",
       "      <td>Soda</td>\n",
       "      <td>...</td>\n",
       "      <td>Mid-range product</td>\n",
       "      <td>Least busy</td>\n",
       "      <td>Less Busy Days</td>\n",
       "      <td>Average Orders</td>\n",
       "      <td>10</td>\n",
       "      <td>New Customer</td>\n",
       "      <td>6.367797</td>\n",
       "      <td>Low Spender</td>\n",
       "      <td>20.5</td>\n",
       "      <td>Non-frequent customer</td>\n",
       "    </tr>\n",
       "  </tbody>\n",
       "</table>\n",
       "<p>10 rows × 24 columns</p>\n",
       "</div>"
      ],
      "text/plain": [
       "   order_id  user_id  user_order_count  orders_day_of_week  order_hour_of_day  \\\n",
       "0   2539329        1                 1                   2                  8   \n",
       "1   2398795        1                 2                   3                  7   \n",
       "2    473747        1                 3                   3                 12   \n",
       "3   2254736        1                 4                   4                  7   \n",
       "4    431534        1                 5                   4                 15   \n",
       "5   3367565        1                 6                   2                  7   \n",
       "6    550135        1                 7                   1                  9   \n",
       "7   3108588        1                 8                   1                 14   \n",
       "8   2295261        1                 9                   1                 16   \n",
       "9   2550362        1                10                   4                  8   \n",
       "\n",
       "   days_since_prior_order  product_id  add_to_cart_order  reordered  \\\n",
       "0                     NaN         196                  1          0   \n",
       "1                    15.0         196                  1          1   \n",
       "2                    21.0         196                  1          1   \n",
       "3                    29.0         196                  1          1   \n",
       "4                    28.0         196                  1          1   \n",
       "5                    19.0         196                  1          1   \n",
       "6                    20.0         196                  1          1   \n",
       "7                    14.0         196                  2          1   \n",
       "8                     0.0         196                  4          1   \n",
       "9                    30.0         196                  1          1   \n",
       "\n",
       "  product_name  ...    price_range_loc     busiest_day          busiest_days  \\\n",
       "0         Soda  ...  Mid-range product  Regularly busy  Normal Busyness Days   \n",
       "1         Soda  ...  Mid-range product  Regularly busy        Less Busy Days   \n",
       "2         Soda  ...  Mid-range product  Regularly busy        Less Busy Days   \n",
       "3         Soda  ...  Mid-range product      Least busy        Less Busy Days   \n",
       "4         Soda  ...  Mid-range product      Least busy        Less Busy Days   \n",
       "5         Soda  ...  Mid-range product  Regularly busy  Normal Busyness Days   \n",
       "6         Soda  ...  Mid-range product  Regularly busy           Busier Days   \n",
       "7         Soda  ...  Mid-range product  Regularly busy           Busier Days   \n",
       "8         Soda  ...  Mid-range product  Regularly busy           Busier Days   \n",
       "9         Soda  ...  Mid-range product      Least busy        Less Busy Days   \n",
       "\n",
       "  busiest_period_of_day max_order  loyalty_flag user_avg_price spending_flag  \\\n",
       "0        Average Orders        10  New Customer       6.367797   Low Spender   \n",
       "1        Average Orders        10  New Customer       6.367797   Low Spender   \n",
       "2        Average Orders        10  New Customer       6.367797   Low Spender   \n",
       "3        Average Orders        10  New Customer       6.367797   Low Spender   \n",
       "4           Most Orders        10  New Customer       6.367797   Low Spender   \n",
       "5        Average Orders        10  New Customer       6.367797   Low Spender   \n",
       "6        Average Orders        10  New Customer       6.367797   Low Spender   \n",
       "7           Most Orders        10  New Customer       6.367797   Low Spender   \n",
       "8        Average Orders        10  New Customer       6.367797   Low Spender   \n",
       "9        Average Orders        10  New Customer       6.367797   Low Spender   \n",
       "\n",
       "   user_med_days_since_order         frequency_flag  \n",
       "0                       20.5  Non-frequent customer  \n",
       "1                       20.5  Non-frequent customer  \n",
       "2                       20.5  Non-frequent customer  \n",
       "3                       20.5  Non-frequent customer  \n",
       "4                       20.5  Non-frequent customer  \n",
       "5                       20.5  Non-frequent customer  \n",
       "6                       20.5  Non-frequent customer  \n",
       "7                       20.5  Non-frequent customer  \n",
       "8                       20.5  Non-frequent customer  \n",
       "9                       20.5  Non-frequent customer  \n",
       "\n",
       "[10 rows x 24 columns]"
      ]
     },
     "execution_count": 4,
     "metadata": {},
     "output_type": "execute_result"
    }
   ],
   "source": [
    "ords_prods_merge.head(10)"
   ]
  },
  {
   "cell_type": "code",
   "execution_count": 5,
   "id": "d0cc10b1",
   "metadata": {},
   "outputs": [
    {
     "data": {
      "text/plain": [
       "<Axes: >"
      ]
     },
     "execution_count": 5,
     "metadata": {},
     "output_type": "execute_result"
    },
    {
     "data": {
      "image/png": "[encoded data removed]",
      "text/plain": [
       "<Figure size 640x480 with 1 Axes>"
      ]
     },
     "metadata": {},
     "output_type": "display_data"
    }
   ],
   "source": [
    "# creating bar chart for orders_day_of_week column with and without sort_index and with the addition of colors to the bars\n",
    "ords_prods_merge['orders_day_of_week'].value_counts().plot.bar()"
   ]
  },
  {
   "cell_type": "code",
   "execution_count": 7,
   "id": "d8946261",
   "metadata": {},
   "outputs": [
    {
     "data": {
      "image/png": "[encoded data removed]",
      "text/plain": [
       "<Figure size 640x480 with 1 Axes>"
      ]
     },
     "metadata": {},
     "output_type": "display_data"
    }
   ],
   "source": [
    "bar_nocolor = ords_prods_merge['orders_day_of_week'].value_counts().sort_index().plot.bar()"
   ]
  },
  {
   "cell_type": "code",
   "execution_count": 8,
   "id": "1a14a3c6",
   "metadata": {},
   "outputs": [
    {
     "data": {
      "text/plain": [
       "<Axes: >"
      ]
     },
     "execution_count": 8,
     "metadata": {},
     "output_type": "execute_result"
    },
    {
     "data": {
      "image/png": "[encoded data removed]",
      "text/plain": [
       "<Figure size 640x480 with 1 Axes>"
      ]
     },
     "metadata": {},
     "output_type": "display_data"
    }
   ],
   "source": [
    "ords_prods_merge['orders_day_of_week'].value_counts().sort_index().plot.bar(color = ['purple','red','pink','orange','yellow','green','blue'])"
   ]
  },
  {
   "cell_type": "code",
   "execution_count": 9,
   "id": "739bb256",
   "metadata": {},
   "outputs": [
    {
     "data": {
      "image/png": "[encoded data removed]",
      "text/plain": [
       "<Figure size 640x480 with 1 Axes>"
      ]
     },
     "metadata": {},
     "output_type": "display_data"
    }
   ],
   "source": [
    "# exporting bar charts out of Jupyter notebook \n",
    "bar = ords_prods_merge['orders_day_of_week'].value_counts().sort_index().plot.bar(color = ['purple','red','pink','orange','yellow','green','blue'])"
   ]
  },
  {
   "cell_type": "code",
   "execution_count": 10,
   "id": "71304547",
   "metadata": {},
   "outputs": [],
   "source": [
    "bar_nocolor.figure.savefig(os.path.join(path, 'IC_Analysis', 'IC_visualizations', 'bar_orders_dow_nocolor.png'))"
   ]
  },
  {
   "cell_type": "code",
   "execution_count": 11,
   "id": "2471131c",
   "metadata": {},
   "outputs": [],
   "source": [
    "bar.figure.savefig(os.path.join(path, 'IC_Analysis', 'IC_visualizations', 'bar_orders_dow.png'))"
   ]
  },
  {
   "cell_type": "code",
   "execution_count": 15,
   "id": "64a13a67",
   "metadata": {},
   "outputs": [
    {
     "data": {
      "text/plain": [
       "<Axes: ylabel='Frequency'>"
      ]
     },
     "execution_count": 15,
     "metadata": {},
     "output_type": "execute_result"
    },
    {
     "data": {
      "image/png": "[encoded data removed]",
      "text/plain": [
       "<Figure size 640x480 with 1 Axes>"
      ]
     },
     "metadata": {},
     "output_type": "display_data"
    }
   ],
   "source": [
    "# creating a histogram of the frequency of different prices \n",
    "ords_prods_merge['prices'].plot.hist(bins = 25)"
   ]
  },
  {
   "cell_type": "code",
   "execution_count": 16,
   "id": "8133e47b",
   "metadata": {},
   "outputs": [
    {
     "data": {
      "text/plain": [
       "count    3.240486e+07\n",
       "mean     1.198023e+01\n",
       "std      4.956554e+02\n",
       "min      1.000000e+00\n",
       "25%      4.200000e+00\n",
       "50%      7.400000e+00\n",
       "75%      1.130000e+01\n",
       "max      9.999900e+04\n",
       "Name: prices, dtype: float64"
      ]
     },
     "execution_count": 16,
     "metadata": {},
     "output_type": "execute_result"
    }
   ],
   "source": [
    "# our results seem to be skewed. Running describe on the prices column to investigate and then finding the max value. \n",
    "ords_prods_merge['prices'].describe()"
   ]
  },
  {
   "cell_type": "code",
   "execution_count": 17,
   "id": "f90fbeca",
   "metadata": {},
   "outputs": [
    {
     "data": {
      "text/plain": [
       "99999.0"
      ]
     },
     "execution_count": 17,
     "metadata": {},
     "output_type": "execute_result"
    }
   ],
   "source": [
    "ords_prods_merge['prices'].max()"
   ]
  },
  {
   "cell_type": "code",
   "execution_count": 18,
   "id": "5898d001",
   "metadata": {},
   "outputs": [
    {
     "data": {
      "text/plain": [
       "<Axes: xlabel='prices', ylabel='prices'>"
      ]
     },
     "execution_count": 18,
     "metadata": {},
     "output_type": "execute_result"
    },
    {
     "data": {
      "image/png": "[encoded data removed]",
      "text/plain": [
       "<Figure size 640x480 with 1 Axes>"
      ]
     },
     "metadata": {},
     "output_type": "display_data"
    }
   ],
   "source": [
    "# creating a scatterplot with prices on both the x and y axes to determine where the outliers are\n",
    "# it looks as though there is a group of outliers clustered below $20,000 and then around $100,000\n",
    "sns.scatterplot(x = 'prices', y = 'prices',data = ords_prods_merge)"
   ]
  },
  {
   "cell_type": "code",
   "execution_count": 19,
   "id": "d0ef438b",
   "metadata": {},
   "outputs": [
    {
     "data": {
      "text/html": [
       "<div>\n",
       "<style scoped>\n",
       "    .dataframe tbody tr th:only-of-type {\n",
       "        vertical-align: middle;\n",
       "    }\n",
       "\n",
       "    .dataframe tbody tr th {\n",
       "        vertical-align: top;\n",
       "    }\n",
       "\n",
       "    .dataframe thead th {\n",
       "        text-align: right;\n",
       "    }\n",
       "</style>\n",
       "<table border=\"1\" class=\"dataframe\">\n",
       "  <thead>\n",
       "    <tr style=\"text-align: right;\">\n",
       "      <th></th>\n",
       "      <th>order_id</th>\n",
       "      <th>user_id</th>\n",
       "      <th>user_order_count</th>\n",
       "      <th>orders_day_of_week</th>\n",
       "      <th>order_hour_of_day</th>\n",
       "      <th>days_since_prior_order</th>\n",
       "      <th>product_id</th>\n",
       "      <th>add_to_cart_order</th>\n",
       "      <th>reordered</th>\n",
       "      <th>product_name</th>\n",
       "      <th>...</th>\n",
       "      <th>price_range_loc</th>\n",
       "      <th>busiest_day</th>\n",
       "      <th>busiest_days</th>\n",
       "      <th>busiest_period_of_day</th>\n",
       "      <th>max_order</th>\n",
       "      <th>loyalty_flag</th>\n",
       "      <th>user_avg_price</th>\n",
       "      <th>spending_flag</th>\n",
       "      <th>user_med_days_since_order</th>\n",
       "      <th>frequency_flag</th>\n",
       "    </tr>\n",
       "  </thead>\n",
       "  <tbody>\n",
       "    <tr>\n",
       "      <th>10030345</th>\n",
       "      <td>912404</td>\n",
       "      <td>17</td>\n",
       "      <td>12</td>\n",
       "      <td>2</td>\n",
       "      <td>14</td>\n",
       "      <td>5.0</td>\n",
       "      <td>21553</td>\n",
       "      <td>5</td>\n",
       "      <td>0</td>\n",
       "      <td>Lowfat 2% Milkfat Cottage Cheese</td>\n",
       "      <td>...</td>\n",
       "      <td>High-range product</td>\n",
       "      <td>Regularly busy</td>\n",
       "      <td>Normal Busyness Days</td>\n",
       "      <td>Most Orders</td>\n",
       "      <td>40</td>\n",
       "      <td>Regular Customer</td>\n",
       "      <td>108.648299</td>\n",
       "      <td>High Spender</td>\n",
       "      <td>5.0</td>\n",
       "      <td>Frequent customer</td>\n",
       "    </tr>\n",
       "    <tr>\n",
       "      <th>10030346</th>\n",
       "      <td>603376</td>\n",
       "      <td>17</td>\n",
       "      <td>22</td>\n",
       "      <td>6</td>\n",
       "      <td>16</td>\n",
       "      <td>4.0</td>\n",
       "      <td>21553</td>\n",
       "      <td>3</td>\n",
       "      <td>1</td>\n",
       "      <td>Lowfat 2% Milkfat Cottage Cheese</td>\n",
       "      <td>...</td>\n",
       "      <td>High-range product</td>\n",
       "      <td>Regularly busy</td>\n",
       "      <td>Normal Busyness Days</td>\n",
       "      <td>Average Orders</td>\n",
       "      <td>40</td>\n",
       "      <td>Regular Customer</td>\n",
       "      <td>108.648299</td>\n",
       "      <td>High Spender</td>\n",
       "      <td>5.0</td>\n",
       "      <td>Frequent customer</td>\n",
       "    </tr>\n",
       "    <tr>\n",
       "      <th>10030347</th>\n",
       "      <td>3264360</td>\n",
       "      <td>135</td>\n",
       "      <td>2</td>\n",
       "      <td>2</td>\n",
       "      <td>21</td>\n",
       "      <td>13.0</td>\n",
       "      <td>21553</td>\n",
       "      <td>6</td>\n",
       "      <td>0</td>\n",
       "      <td>Lowfat 2% Milkfat Cottage Cheese</td>\n",
       "      <td>...</td>\n",
       "      <td>High-range product</td>\n",
       "      <td>Regularly busy</td>\n",
       "      <td>Normal Busyness Days</td>\n",
       "      <td>Average Orders</td>\n",
       "      <td>4</td>\n",
       "      <td>New Customer</td>\n",
       "      <td>1154.792308</td>\n",
       "      <td>High Spender</td>\n",
       "      <td>12.0</td>\n",
       "      <td>Regular customer</td>\n",
       "    </tr>\n",
       "    <tr>\n",
       "      <th>10030348</th>\n",
       "      <td>892534</td>\n",
       "      <td>135</td>\n",
       "      <td>3</td>\n",
       "      <td>0</td>\n",
       "      <td>8</td>\n",
       "      <td>12.0</td>\n",
       "      <td>21553</td>\n",
       "      <td>3</td>\n",
       "      <td>1</td>\n",
       "      <td>Lowfat 2% Milkfat Cottage Cheese</td>\n",
       "      <td>...</td>\n",
       "      <td>High-range product</td>\n",
       "      <td>Busiest day</td>\n",
       "      <td>Busier Days</td>\n",
       "      <td>Average Orders</td>\n",
       "      <td>4</td>\n",
       "      <td>New Customer</td>\n",
       "      <td>1154.792308</td>\n",
       "      <td>High Spender</td>\n",
       "      <td>12.0</td>\n",
       "      <td>Regular customer</td>\n",
       "    </tr>\n",
       "    <tr>\n",
       "      <th>10030349</th>\n",
       "      <td>229704</td>\n",
       "      <td>342</td>\n",
       "      <td>8</td>\n",
       "      <td>1</td>\n",
       "      <td>19</td>\n",
       "      <td>30.0</td>\n",
       "      <td>21553</td>\n",
       "      <td>9</td>\n",
       "      <td>0</td>\n",
       "      <td>Lowfat 2% Milkfat Cottage Cheese</td>\n",
       "      <td>...</td>\n",
       "      <td>High-range product</td>\n",
       "      <td>Regularly busy</td>\n",
       "      <td>Busier Days</td>\n",
       "      <td>Average Orders</td>\n",
       "      <td>16</td>\n",
       "      <td>Regular Customer</td>\n",
       "      <td>114.426619</td>\n",
       "      <td>High Spender</td>\n",
       "      <td>23.0</td>\n",
       "      <td>Non-frequent customer</td>\n",
       "    </tr>\n",
       "    <tr>\n",
       "      <th>...</th>\n",
       "      <td>...</td>\n",
       "      <td>...</td>\n",
       "      <td>...</td>\n",
       "      <td>...</td>\n",
       "      <td>...</td>\n",
       "      <td>...</td>\n",
       "      <td>...</td>\n",
       "      <td>...</td>\n",
       "      <td>...</td>\n",
       "      <td>...</td>\n",
       "      <td>...</td>\n",
       "      <td>...</td>\n",
       "      <td>...</td>\n",
       "      <td>...</td>\n",
       "      <td>...</td>\n",
       "      <td>...</td>\n",
       "      <td>...</td>\n",
       "      <td>...</td>\n",
       "      <td>...</td>\n",
       "      <td>...</td>\n",
       "      <td>...</td>\n",
       "    </tr>\n",
       "    <tr>\n",
       "      <th>29166209</th>\n",
       "      <td>2249946</td>\n",
       "      <td>204099</td>\n",
       "      <td>29</td>\n",
       "      <td>0</td>\n",
       "      <td>8</td>\n",
       "      <td>4.0</td>\n",
       "      <td>33664</td>\n",
       "      <td>1</td>\n",
       "      <td>0</td>\n",
       "      <td>2 % Reduced Fat  Milk</td>\n",
       "      <td>...</td>\n",
       "      <td>High-range product</td>\n",
       "      <td>Busiest day</td>\n",
       "      <td>Busier Days</td>\n",
       "      <td>Average Orders</td>\n",
       "      <td>39</td>\n",
       "      <td>Regular Customer</td>\n",
       "      <td>1106.743956</td>\n",
       "      <td>High Spender</td>\n",
       "      <td>4.0</td>\n",
       "      <td>Frequent customer</td>\n",
       "    </tr>\n",
       "    <tr>\n",
       "      <th>29166210</th>\n",
       "      <td>2363282</td>\n",
       "      <td>204099</td>\n",
       "      <td>31</td>\n",
       "      <td>0</td>\n",
       "      <td>9</td>\n",
       "      <td>2.0</td>\n",
       "      <td>33664</td>\n",
       "      <td>1</td>\n",
       "      <td>1</td>\n",
       "      <td>2 % Reduced Fat  Milk</td>\n",
       "      <td>...</td>\n",
       "      <td>High-range product</td>\n",
       "      <td>Busiest day</td>\n",
       "      <td>Busier Days</td>\n",
       "      <td>Average Orders</td>\n",
       "      <td>39</td>\n",
       "      <td>Regular Customer</td>\n",
       "      <td>1106.743956</td>\n",
       "      <td>High Spender</td>\n",
       "      <td>4.0</td>\n",
       "      <td>Frequent customer</td>\n",
       "    </tr>\n",
       "    <tr>\n",
       "      <th>29166211</th>\n",
       "      <td>3181945</td>\n",
       "      <td>204395</td>\n",
       "      <td>13</td>\n",
       "      <td>3</td>\n",
       "      <td>15</td>\n",
       "      <td>8.0</td>\n",
       "      <td>33664</td>\n",
       "      <td>25</td>\n",
       "      <td>0</td>\n",
       "      <td>2 % Reduced Fat  Milk</td>\n",
       "      <td>...</td>\n",
       "      <td>High-range product</td>\n",
       "      <td>Regularly busy</td>\n",
       "      <td>Less Busy Days</td>\n",
       "      <td>Most Orders</td>\n",
       "      <td>15</td>\n",
       "      <td>Regular Customer</td>\n",
       "      <td>451.153540</td>\n",
       "      <td>High Spender</td>\n",
       "      <td>5.0</td>\n",
       "      <td>Frequent customer</td>\n",
       "    </tr>\n",
       "    <tr>\n",
       "      <th>29166212</th>\n",
       "      <td>2486215</td>\n",
       "      <td>205227</td>\n",
       "      <td>7</td>\n",
       "      <td>3</td>\n",
       "      <td>20</td>\n",
       "      <td>4.0</td>\n",
       "      <td>33664</td>\n",
       "      <td>8</td>\n",
       "      <td>0</td>\n",
       "      <td>2 % Reduced Fat  Milk</td>\n",
       "      <td>...</td>\n",
       "      <td>High-range product</td>\n",
       "      <td>Regularly busy</td>\n",
       "      <td>Less Busy Days</td>\n",
       "      <td>Average Orders</td>\n",
       "      <td>12</td>\n",
       "      <td>Regular Customer</td>\n",
       "      <td>1178.381871</td>\n",
       "      <td>High Spender</td>\n",
       "      <td>12.0</td>\n",
       "      <td>Regular customer</td>\n",
       "    </tr>\n",
       "    <tr>\n",
       "      <th>29166213</th>\n",
       "      <td>2232716</td>\n",
       "      <td>205227</td>\n",
       "      <td>10</td>\n",
       "      <td>0</td>\n",
       "      <td>11</td>\n",
       "      <td>4.0</td>\n",
       "      <td>33664</td>\n",
       "      <td>23</td>\n",
       "      <td>1</td>\n",
       "      <td>2 % Reduced Fat  Milk</td>\n",
       "      <td>...</td>\n",
       "      <td>High-range product</td>\n",
       "      <td>Busiest day</td>\n",
       "      <td>Busier Days</td>\n",
       "      <td>Most Orders</td>\n",
       "      <td>12</td>\n",
       "      <td>Regular Customer</td>\n",
       "      <td>1178.381871</td>\n",
       "      <td>High Spender</td>\n",
       "      <td>12.0</td>\n",
       "      <td>Regular customer</td>\n",
       "    </tr>\n",
       "  </tbody>\n",
       "</table>\n",
       "<p>5127 rows × 24 columns</p>\n",
       "</div>"
      ],
      "text/plain": [
       "          order_id  user_id  user_order_count  orders_day_of_week  \\\n",
       "10030345    912404       17                12                   2   \n",
       "10030346    603376       17                22                   6   \n",
       "10030347   3264360      135                 2                   2   \n",
       "10030348    892534      135                 3                   0   \n",
       "10030349    229704      342                 8                   1   \n",
       "...            ...      ...               ...                 ...   \n",
       "29166209   2249946   204099                29                   0   \n",
       "29166210   2363282   204099                31                   0   \n",
       "29166211   3181945   204395                13                   3   \n",
       "29166212   2486215   205227                 7                   3   \n",
       "29166213   2232716   205227                10                   0   \n",
       "\n",
       "          order_hour_of_day  days_since_prior_order  product_id  \\\n",
       "10030345                 14                     5.0       21553   \n",
       "10030346                 16                     4.0       21553   \n",
       "10030347                 21                    13.0       21553   \n",
       "10030348                  8                    12.0       21553   \n",
       "10030349                 19                    30.0       21553   \n",
       "...                     ...                     ...         ...   \n",
       "29166209                  8                     4.0       33664   \n",
       "29166210                  9                     2.0       33664   \n",
       "29166211                 15                     8.0       33664   \n",
       "29166212                 20                     4.0       33664   \n",
       "29166213                 11                     4.0       33664   \n",
       "\n",
       "          add_to_cart_order  reordered                      product_name  ...  \\\n",
       "10030345                  5          0  Lowfat 2% Milkfat Cottage Cheese  ...   \n",
       "10030346                  3          1  Lowfat 2% Milkfat Cottage Cheese  ...   \n",
       "10030347                  6          0  Lowfat 2% Milkfat Cottage Cheese  ...   \n",
       "10030348                  3          1  Lowfat 2% Milkfat Cottage Cheese  ...   \n",
       "10030349                  9          0  Lowfat 2% Milkfat Cottage Cheese  ...   \n",
       "...                     ...        ...                               ...  ...   \n",
       "29166209                  1          0             2 % Reduced Fat  Milk  ...   \n",
       "29166210                  1          1             2 % Reduced Fat  Milk  ...   \n",
       "29166211                 25          0             2 % Reduced Fat  Milk  ...   \n",
       "29166212                  8          0             2 % Reduced Fat  Milk  ...   \n",
       "29166213                 23          1             2 % Reduced Fat  Milk  ...   \n",
       "\n",
       "             price_range_loc     busiest_day          busiest_days  \\\n",
       "10030345  High-range product  Regularly busy  Normal Busyness Days   \n",
       "10030346  High-range product  Regularly busy  Normal Busyness Days   \n",
       "10030347  High-range product  Regularly busy  Normal Busyness Days   \n",
       "10030348  High-range product     Busiest day           Busier Days   \n",
       "10030349  High-range product  Regularly busy           Busier Days   \n",
       "...                      ...             ...                   ...   \n",
       "29166209  High-range product     Busiest day           Busier Days   \n",
       "29166210  High-range product     Busiest day           Busier Days   \n",
       "29166211  High-range product  Regularly busy        Less Busy Days   \n",
       "29166212  High-range product  Regularly busy        Less Busy Days   \n",
       "29166213  High-range product     Busiest day           Busier Days   \n",
       "\n",
       "         busiest_period_of_day max_order      loyalty_flag user_avg_price  \\\n",
       "10030345           Most Orders        40  Regular Customer     108.648299   \n",
       "10030346        Average Orders        40  Regular Customer     108.648299   \n",
       "10030347        Average Orders         4      New Customer    1154.792308   \n",
       "10030348        Average Orders         4      New Customer    1154.792308   \n",
       "10030349        Average Orders        16  Regular Customer     114.426619   \n",
       "...                        ...       ...               ...            ...   \n",
       "29166209        Average Orders        39  Regular Customer    1106.743956   \n",
       "29166210        Average Orders        39  Regular Customer    1106.743956   \n",
       "29166211           Most Orders        15  Regular Customer     451.153540   \n",
       "29166212        Average Orders        12  Regular Customer    1178.381871   \n",
       "29166213           Most Orders        12  Regular Customer    1178.381871   \n",
       "\n",
       "         spending_flag  user_med_days_since_order         frequency_flag  \n",
       "10030345  High Spender                        5.0      Frequent customer  \n",
       "10030346  High Spender                        5.0      Frequent customer  \n",
       "10030347  High Spender                       12.0       Regular customer  \n",
       "10030348  High Spender                       12.0       Regular customer  \n",
       "10030349  High Spender                       23.0  Non-frequent customer  \n",
       "...                ...                        ...                    ...  \n",
       "29166209  High Spender                        4.0      Frequent customer  \n",
       "29166210  High Spender                        4.0      Frequent customer  \n",
       "29166211  High Spender                        5.0      Frequent customer  \n",
       "29166212  High Spender                       12.0       Regular customer  \n",
       "29166213  High Spender                       12.0       Regular customer  \n",
       "\n",
       "[5127 rows x 24 columns]"
      ]
     },
     "execution_count": 19,
     "metadata": {},
     "output_type": "execute_result"
    }
   ],
   "source": [
    "# using .loc to pull all the rows of our dataframe where the price column is great than $100\n",
    "# this will tell us how many rows have outliers for price \n",
    "ords_prods_merge.loc[ords_prods_merge['prices']>100]"
   ]
  },
  {
   "cell_type": "code",
   "execution_count": 20,
   "id": "39166973",
   "metadata": {},
   "outputs": [],
   "source": [
    "# Replacing any \"prices\" value that is over $100 with NaN so that those rows do not skew our analyses/visualizations\n",
    "ords_prods_merge.loc[ords_prods_merge['prices'] > 100, 'prices'] = np.nan"
   ]
  },
  {
   "cell_type": "code",
   "execution_count": 21,
   "id": "33eb3c5d",
   "metadata": {},
   "outputs": [
    {
     "data": {
      "text/plain": [
       "25.0"
      ]
     },
     "execution_count": 21,
     "metadata": {},
     "output_type": "execute_result"
    }
   ],
   "source": [
    "ords_prods_merge['prices'].max()"
   ]
  },
  {
   "cell_type": "code",
   "execution_count": 22,
   "id": "65a845f6",
   "metadata": {},
   "outputs": [],
   "source": [
    "# It is reccomended that the above steps to replace the outliers with NaNs should have been taken in the data cleaning \n",
    "# stage. The next steps revert back to visualizations"
   ]
  },
  {
   "cell_type": "code",
   "execution_count": 23,
   "id": "60ab448d",
   "metadata": {},
   "outputs": [
    {
     "data": {
      "image/png": "[encoded data removed]",
      "text/plain": [
       "<Figure size 640x480 with 1 Axes>"
      ]
     },
     "metadata": {},
     "output_type": "display_data"
    }
   ],
   "source": [
    "# Now that we have removed the outliers, creating the histogram of prices with 25 buckets \n",
    "hist = ords_prods_merge['prices'].plot.hist(bins = 25)"
   ]
  },
  {
   "cell_type": "code",
   "execution_count": 24,
   "id": "95562c64",
   "metadata": {},
   "outputs": [
    {
     "data": {
      "image/png": "[encoded data removed]",
      "text/plain": [
       "<Figure size 640x480 with 1 Axes>"
      ]
     },
     "metadata": {},
     "output_type": "display_data"
    }
   ],
   "source": [
    "hist_2 = ords_prods_merge['prices'].plot.hist(bins = 70)"
   ]
  },
  {
   "cell_type": "code",
   "execution_count": 25,
   "id": "2f89351a",
   "metadata": {},
   "outputs": [],
   "source": [
    "hist.figure.savefig(os.path.join(path, 'IC_Analysis', 'IC_visualizations', 'hist_prices.png'))"
   ]
  },
  {
   "cell_type": "code",
   "execution_count": 26,
   "id": "81267037",
   "metadata": {},
   "outputs": [],
   "source": [
    "hist_2.figure.savefig(os.path.join(path,'IC_Analysis', 'IC_visualizations', 'hist2_prices.png'))"
   ]
  },
  {
   "cell_type": "code",
   "execution_count": 23,
   "id": "8f8c0364",
   "metadata": {},
   "outputs": [],
   "source": [
    "# If we want to create a line chart for the development of the \"prices\" column across the days of the week\n",
    "# we would need to create a sample of the data set. But, we could not just take the first 2M rows (df = ords_prods_merge[:2000000])\n",
    "# because we would not be getting a true representation of the full data set that way"
   ]
  },
  {
   "cell_type": "code",
   "execution_count": 24,
   "id": "f2013874",
   "metadata": {},
   "outputs": [
    {
     "data": {
      "text/plain": [
       "32404859"
      ]
     },
     "execution_count": 24,
     "metadata": {},
     "output_type": "execute_result"
    }
   ],
   "source": [
    "# Determining the length of the total dataframe\n",
    "len(ords_prods_merge)"
   ]
  },
  {
   "cell_type": "code",
   "execution_count": 25,
   "id": "a2a2cfd9",
   "metadata": {},
   "outputs": [],
   "source": [
    "# setting the \"seed\" at 4 so that the randomly generate values used to create the sample remain consistent \n",
    "np.random.seed(4)"
   ]
  },
  {
   "cell_type": "code",
   "execution_count": 26,
   "id": "6f27087a",
   "metadata": {},
   "outputs": [],
   "source": [
    "# Next we will create a list of boolean values \"dev\" that will be used for splitting our values into two groups, \n",
    "# one with 70% of the rows, one with 30%. \n",
    "# We will use np.random.rand() to generate a random list of values. The .rand() portion at the end specifies that \n",
    "# we want the values to be uniformly distributed \n",
    "# We will use len() on the entire dataframe to communicate to the function how many random values we want to generate\n",
    "# We will then compare the list of random values that has as many values as the dataframe has rows to 0.7 and assign\n",
    "# the boolean values of that comparison to the \"dev\" list \n",
    "# In that way we will have a randomly generated list of boolean values the same length as rows in the dataframe, \n",
    "# with 70% as \"True\" and 30% as \"False\""
   ]
  },
  {
   "cell_type": "code",
   "execution_count": 27,
   "id": "8a6b9737",
   "metadata": {},
   "outputs": [],
   "source": [
    "dev = np.random.rand(len(ords_prods_merge)) <= 0.7"
   ]
  },
  {
   "cell_type": "code",
   "execution_count": 28,
   "id": "bcb905a3",
   "metadata": {},
   "outputs": [],
   "source": [
    "# Next we will use our list of boolean values to split the dataframe into two groups \"big\" and \"small\"\n",
    "# Big will be the rows from the dataframe that correspond to values of \"true\" in the dev boolean list\n",
    "# Small will be rows from the datframe that correspond to values of Not \"true\" (aka false) from the dev boolean list "
   ]
  },
  {
   "cell_type": "code",
   "execution_count": 29,
   "id": "ff09964a",
   "metadata": {},
   "outputs": [],
   "source": [
    "big = ords_prods_merge[dev]"
   ]
  },
  {
   "cell_type": "code",
   "execution_count": 30,
   "id": "4e6fd59d",
   "metadata": {},
   "outputs": [],
   "source": [
    "small = ords_prods_merge[~dev]"
   ]
  },
  {
   "cell_type": "code",
   "execution_count": 31,
   "id": "66289b28",
   "metadata": {},
   "outputs": [],
   "source": [
    "# Since we had a uniform distribution of values in the random list, and we compared those values to a value of 0.7\n",
    "# we should have 70% values of True (and thus 70% of the rows assigned to \"big\") and 30% values of False (and thus\n",
    "# 30% of values assigned to \"small\")"
   ]
  },
  {
   "cell_type": "code",
   "execution_count": 32,
   "id": "fb5f95ac",
   "metadata": {},
   "outputs": [],
   "source": [
    "# We want to test to make sure that big is 70% of the total and small is 30%. Perform len on each and then len \n",
    "# on both to confirm this and that the total is equal to the length of ords_prods_merge"
   ]
  },
  {
   "cell_type": "code",
   "execution_count": 33,
   "id": "ffa1c37b",
   "metadata": {},
   "outputs": [
    {
     "data": {
      "text/plain": [
       "22683761"
      ]
     },
     "execution_count": 33,
     "metadata": {},
     "output_type": "execute_result"
    }
   ],
   "source": [
    "len(big)"
   ]
  },
  {
   "cell_type": "code",
   "execution_count": 34,
   "id": "051c6f34",
   "metadata": {},
   "outputs": [
    {
     "data": {
      "text/plain": [
       "9721098"
      ]
     },
     "execution_count": 34,
     "metadata": {},
     "output_type": "execute_result"
    }
   ],
   "source": [
    "len(small)"
   ]
  },
  {
   "cell_type": "code",
   "execution_count": 35,
   "id": "c755a8fe",
   "metadata": {},
   "outputs": [
    {
     "data": {
      "text/plain": [
       "32404859"
      ]
     },
     "execution_count": 35,
     "metadata": {},
     "output_type": "execute_result"
    }
   ],
   "source": [
    "len(big)+len(small)"
   ]
  },
  {
   "cell_type": "code",
   "execution_count": 36,
   "id": "f77186f1",
   "metadata": {},
   "outputs": [],
   "source": [
    "# Using our \"small\" sample of 30% of the total dataframe we will trim that down further to the only two columns we need\n",
    "# for the line chart, the \"orders day of the week\" and \"prices\"\n",
    "df_2 = small[['orders_day_of_week','prices']]"
   ]
  },
  {
   "cell_type": "code",
   "execution_count": 37,
   "id": "ee3bc155",
   "metadata": {},
   "outputs": [
    {
     "data": {
      "image/png": "[encoded data removed]",
      "text/plain": [
       "<Figure size 640x480 with 1 Axes>"
      ]
     },
     "metadata": {},
     "output_type": "display_data"
    }
   ],
   "source": [
    "# Using the df_2 subset of the \"small\" data sample to create a line chart with order day of the week on the x-axis\n",
    "# and price on the Y-axis. It shows that prices paid for items are highest on day 0 and 6, Sunday and Saturday. \n",
    "line = sns.lineplot(data = df_2, x = 'orders_day_of_week', y= 'prices')"
   ]
  },
  {
   "cell_type": "code",
   "execution_count": 27,
   "id": "7b07ba6b",
   "metadata": {},
   "outputs": [
    {
     "ename": "NameError",
     "evalue": "name 'line' is not defined",
     "output_type": "error",
     "traceback": [
      "\u001b[0;31m---------------------------------------------------------------------------\u001b[0m",
      "\u001b[0;31mNameError\u001b[0m                                 Traceback (most recent call last)",
      "Cell \u001b[0;32mIn[27], line 2\u001b[0m\n\u001b[1;32m      1\u001b[0m \u001b[38;5;66;03m# Exporting the line chart from above out of the Jupyter notebook. \u001b[39;00m\n\u001b[0;32m----> 2\u001b[0m \u001b[43mline\u001b[49m\u001b[38;5;241m.\u001b[39mfigure\u001b[38;5;241m.\u001b[39msavefig(os\u001b[38;5;241m.\u001b[39mpath\u001b[38;5;241m.\u001b[39mjoin(path,\u001b[38;5;124m'\u001b[39m\u001b[38;5;124mIC_Analysis\u001b[39m\u001b[38;5;124m'\u001b[39m, \u001b[38;5;124m'\u001b[39m\u001b[38;5;124mIC_visualizations\u001b[39m\u001b[38;5;124m'\u001b[39m, \u001b[38;5;124m'\u001b[39m\u001b[38;5;124mline_dow_prices.png\u001b[39m\u001b[38;5;124m'\u001b[39m))\n",
      "\u001b[0;31mNameError\u001b[0m: name 'line' is not defined"
     ]
    }
   ],
   "source": [
    "# Exporting the line chart from above out of the Jupyter notebook. \n",
    "line.figure.savefig(os.path.join(path,'IC_Analysis', 'IC_visualizations', 'line_dow_prices.png'))"
   ]
  },
  {
   "cell_type": "code",
   "execution_count": null,
   "id": "084ae58a",
   "metadata": {},
   "outputs": [],
   "source": []
  }
 ],
 "metadata": {
  "kernelspec": {
   "display_name": "Python 3 (ipykernel)",
   "language": "python",
   "name": "python3"
  },
  "language_info": {
   "codemirror_mode": {
    "name": "ipython",
    "version": 3
   },
   "file_extension": ".py",
   "mimetype": "text/x-python",
   "name": "python",
   "nbconvert_exporter": "python",
   "pygments_lexer": "ipython3",
   "version": "3.9.13"
  }
 },
 "nbformat": 4,
 "nbformat_minor": 5
}
