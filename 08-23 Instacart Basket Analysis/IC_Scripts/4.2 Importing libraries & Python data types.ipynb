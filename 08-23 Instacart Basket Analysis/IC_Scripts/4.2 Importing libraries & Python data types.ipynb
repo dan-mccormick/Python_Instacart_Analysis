{
 "cells": [
  {
   "cell_type": "markdown",
   "id": "24555ddd",
   "metadata": {},
   "source": [
    "# 01. Importing libraries"
   ]
  },
  {
   "cell_type": "code",
   "execution_count": 1,
   "id": "2b56ef63",
   "metadata": {},
   "outputs": [],
   "source": [
    "# importing libraries\n",
    "import pandas as pd\n",
    "import numpy as np\n",
    "import os"
   ]
  },
  {
   "cell_type": "markdown",
   "id": "bdc90d2d",
   "metadata": {},
   "source": [
    "# 02. Data types in Python"
   ]
  },
  {
   "cell_type": "code",
   "execution_count": 2,
   "id": "4980837d",
   "metadata": {},
   "outputs": [],
   "source": [
    "x = 2"
   ]
  },
  {
   "cell_type": "code",
   "execution_count": 3,
   "id": "5a30952d",
   "metadata": {},
   "outputs": [
    {
     "data": {
      "text/plain": [
       "2"
      ]
     },
     "execution_count": 3,
     "metadata": {},
     "output_type": "execute_result"
    }
   ],
   "source": [
    "x"
   ]
  },
  {
   "cell_type": "code",
   "execution_count": 4,
   "id": "7cfb713c",
   "metadata": {},
   "outputs": [
    {
     "name": "stdout",
     "output_type": "stream",
     "text": [
      "2\n"
     ]
    }
   ],
   "source": [
    "print(x)"
   ]
  },
  {
   "cell_type": "code",
   "execution_count": 5,
   "id": "8d004527",
   "metadata": {},
   "outputs": [
    {
     "data": {
      "text/plain": [
       "int"
      ]
     },
     "execution_count": 5,
     "metadata": {},
     "output_type": "execute_result"
    }
   ],
   "source": [
    "type(x)"
   ]
  },
  {
   "cell_type": "code",
   "execution_count": 6,
   "id": "2feba2ad",
   "metadata": {},
   "outputs": [],
   "source": [
    "y = 5.678"
   ]
  },
  {
   "cell_type": "code",
   "execution_count": 7,
   "id": "df252334",
   "metadata": {},
   "outputs": [
    {
     "data": {
      "text/plain": [
       "float"
      ]
     },
     "execution_count": 7,
     "metadata": {},
     "output_type": "execute_result"
    }
   ],
   "source": [
    "type(y)"
   ]
  },
  {
   "cell_type": "code",
   "execution_count": 8,
   "id": "f55eb1d7",
   "metadata": {},
   "outputs": [],
   "source": [
    "z = 'Brazil'"
   ]
  },
  {
   "cell_type": "code",
   "execution_count": 9,
   "id": "a119b140",
   "metadata": {},
   "outputs": [
    {
     "data": {
      "text/plain": [
       "str"
      ]
     },
     "execution_count": 9,
     "metadata": {},
     "output_type": "execute_result"
    }
   ],
   "source": [
    "type(z)"
   ]
  },
  {
   "cell_type": "code",
   "execution_count": 10,
   "id": "bb6a3fac",
   "metadata": {},
   "outputs": [
    {
     "data": {
      "text/plain": [
       "str"
      ]
     },
     "execution_count": 10,
     "metadata": {},
     "output_type": "execute_result"
    }
   ],
   "source": [
    "type('Mania')"
   ]
  },
  {
   "cell_type": "code",
   "execution_count": 11,
   "id": "35324443",
   "metadata": {},
   "outputs": [
    {
     "data": {
      "text/plain": [
       "bool"
      ]
     },
     "execution_count": 11,
     "metadata": {},
     "output_type": "execute_result"
    }
   ],
   "source": [
    "type(True)"
   ]
  },
  {
   "cell_type": "code",
   "execution_count": 12,
   "id": "8026aead",
   "metadata": {},
   "outputs": [
    {
     "data": {
      "text/plain": [
       "bool"
      ]
     },
     "execution_count": 12,
     "metadata": {},
     "output_type": "execute_result"
    }
   ],
   "source": [
    "type(False)"
   ]
  },
  {
   "cell_type": "code",
   "execution_count": 13,
   "id": "3db49a36",
   "metadata": {},
   "outputs": [
    {
     "name": "stdout",
     "output_type": "stream",
     "text": [
      "2\n"
     ]
    }
   ],
   "source": [
    "print(x)"
   ]
  },
  {
   "cell_type": "code",
   "execution_count": 14,
   "id": "ec2ba638",
   "metadata": {},
   "outputs": [
    {
     "data": {
      "text/plain": [
       "6"
      ]
     },
     "execution_count": 14,
     "metadata": {},
     "output_type": "execute_result"
    }
   ],
   "source": [
    "x+4"
   ]
  },
  {
   "cell_type": "code",
   "execution_count": 15,
   "id": "a7b7bf56",
   "metadata": {},
   "outputs": [
    {
     "data": {
      "text/plain": [
       "7.678"
      ]
     },
     "execution_count": 15,
     "metadata": {},
     "output_type": "execute_result"
    }
   ],
   "source": [
    "x + y"
   ]
  },
  {
   "cell_type": "code",
   "execution_count": 16,
   "id": "e51777b0",
   "metadata": {},
   "outputs": [],
   "source": [
    "x = x+4"
   ]
  },
  {
   "cell_type": "code",
   "execution_count": 17,
   "id": "bb4e24a8",
   "metadata": {},
   "outputs": [
    {
     "name": "stdout",
     "output_type": "stream",
     "text": [
      "6\n"
     ]
    }
   ],
   "source": [
    "print(x)"
   ]
  },
  {
   "cell_type": "code",
   "execution_count": 22,
   "id": "f8637719",
   "metadata": {},
   "outputs": [],
   "source": [
    "a = 'Hello, '"
   ]
  },
  {
   "cell_type": "code",
   "execution_count": 19,
   "id": "6b2d25ec",
   "metadata": {},
   "outputs": [],
   "source": [
    "b = 'Marley'"
   ]
  },
  {
   "cell_type": "code",
   "execution_count": 23,
   "id": "d0b9708c",
   "metadata": {},
   "outputs": [
    {
     "data": {
      "text/plain": [
       "'Hello, Marley'"
      ]
     },
     "execution_count": 23,
     "metadata": {},
     "output_type": "execute_result"
    }
   ],
   "source": [
    "a+b"
   ]
  },
  {
   "cell_type": "code",
   "execution_count": 24,
   "id": "b1f11ac8",
   "metadata": {},
   "outputs": [
    {
     "data": {
      "text/plain": [
       "False"
      ]
     },
     "execution_count": 24,
     "metadata": {},
     "output_type": "execute_result"
    }
   ],
   "source": [
    "x == y"
   ]
  },
  {
   "cell_type": "code",
   "execution_count": 25,
   "id": "3e3ae400",
   "metadata": {},
   "outputs": [
    {
     "data": {
      "text/plain": [
       "bool"
      ]
     },
     "execution_count": 25,
     "metadata": {},
     "output_type": "execute_result"
    }
   ],
   "source": [
    "type(x==y)"
   ]
  },
  {
   "cell_type": "markdown",
   "id": "44cfd5b2",
   "metadata": {},
   "source": [
    "# Exercise 4.2 Submission"
   ]
  },
  {
   "cell_type": "code",
   "execution_count": null,
   "id": "616b6601",
   "metadata": {},
   "outputs": [],
   "source": [
    "# three ways to get 100"
   ]
  },
  {
   "cell_type": "code",
   "execution_count": 26,
   "id": "a1cc1144",
   "metadata": {},
   "outputs": [
    {
     "data": {
      "text/plain": [
       "100"
      ]
     },
     "execution_count": 26,
     "metadata": {},
     "output_type": "execute_result"
    }
   ],
   "source": [
    "10 * 10"
   ]
  },
  {
   "cell_type": "code",
   "execution_count": 27,
   "id": "1fe0fe38",
   "metadata": {},
   "outputs": [
    {
     "data": {
      "text/plain": [
       "100"
      ]
     },
     "execution_count": 27,
     "metadata": {},
     "output_type": "execute_result"
    }
   ],
   "source": [
    "106 - 6"
   ]
  },
  {
   "cell_type": "code",
   "execution_count": 28,
   "id": "137e3802",
   "metadata": {},
   "outputs": [
    {
     "data": {
      "text/plain": [
       "100.0"
      ]
     },
     "execution_count": 28,
     "metadata": {},
     "output_type": "execute_result"
    }
   ],
   "source": [
    "10000/100"
   ]
  },
  {
   "cell_type": "code",
   "execution_count": 29,
   "id": "3e3bd4cc",
   "metadata": {},
   "outputs": [],
   "source": [
    "a = 9.99"
   ]
  },
  {
   "cell_type": "code",
   "execution_count": 30,
   "id": "283ca9db",
   "metadata": {},
   "outputs": [],
   "source": [
    "b = 3.33"
   ]
  },
  {
   "cell_type": "code",
   "execution_count": 31,
   "id": "6cb81c09",
   "metadata": {},
   "outputs": [
    {
     "data": {
      "text/plain": [
       "3.0"
      ]
     },
     "execution_count": 31,
     "metadata": {},
     "output_type": "execute_result"
    }
   ],
   "source": [
    "a / b"
   ]
  },
  {
   "cell_type": "code",
   "execution_count": 32,
   "id": "4a14a27d",
   "metadata": {},
   "outputs": [],
   "source": [
    "c = 'caree'"
   ]
  },
  {
   "cell_type": "code",
   "execution_count": 33,
   "id": "e8b8f4cd",
   "metadata": {},
   "outputs": [],
   "source": [
    "d = 'rfoundry'"
   ]
  },
  {
   "cell_type": "code",
   "execution_count": 34,
   "id": "d876435b",
   "metadata": {},
   "outputs": [
    {
     "data": {
      "text/plain": [
       "'careerfoundry'"
      ]
     },
     "execution_count": 34,
     "metadata": {},
     "output_type": "execute_result"
    }
   ],
   "source": [
    "c + d"
   ]
  },
  {
   "cell_type": "code",
   "execution_count": 38,
   "id": "29c309e5",
   "metadata": {},
   "outputs": [],
   "source": [
    "e = 'I am creating '"
   ]
  },
  {
   "cell_type": "code",
   "execution_count": 36,
   "id": "b7274ea3",
   "metadata": {},
   "outputs": [],
   "source": [
    "f = 'a short sentence.'"
   ]
  },
  {
   "cell_type": "code",
   "execution_count": 39,
   "id": "27ece3b7",
   "metadata": {},
   "outputs": [
    {
     "data": {
      "text/plain": [
       "'I am creating a short sentence.'"
      ]
     },
     "execution_count": 39,
     "metadata": {},
     "output_type": "execute_result"
    }
   ],
   "source": [
    "e+f"
   ]
  },
  {
   "cell_type": "code",
   "execution_count": 40,
   "id": "ef95c37a",
   "metadata": {},
   "outputs": [],
   "source": [
    "g = 'I am learning'"
   ]
  },
  {
   "cell_type": "code",
   "execution_count": 41,
   "id": "febd799b",
   "metadata": {},
   "outputs": [],
   "source": [
    "h = ' to code with Python'"
   ]
  },
  {
   "cell_type": "code",
   "execution_count": 42,
   "id": "b72308b2",
   "metadata": {},
   "outputs": [
    {
     "data": {
      "text/plain": [
       "'I am learning to code with Python'"
      ]
     },
     "execution_count": 42,
     "metadata": {},
     "output_type": "execute_result"
    }
   ],
   "source": [
    "g+h"
   ]
  },
  {
   "cell_type": "markdown",
   "id": "9da85778",
   "metadata": {},
   "source": [
    "# Bonus Task"
   ]
  },
  {
   "cell_type": "code",
   "execution_count": 43,
   "id": "9cb9eecf",
   "metadata": {},
   "outputs": [],
   "source": [
    "i = 'Happy Sunday!'"
   ]
  },
  {
   "cell_type": "code",
   "execution_count": 44,
   "id": "39940602",
   "metadata": {},
   "outputs": [
    {
     "data": {
      "text/plain": [
       "'Happy Sunday!Happy Sunday!Happy Sunday!Happy Sunday!Happy Sunday!Happy Sunday!Happy Sunday!Happy Sunday!Happy Sunday!Happy Sunday!Happy Sunday!Happy Sunday!Happy Sunday!Happy Sunday!Happy Sunday!Happy Sunday!Happy Sunday!Happy Sunday!Happy Sunday!Happy Sunday!Happy Sunday!Happy Sunday!Happy Sunday!Happy Sunday!Happy Sunday!Happy Sunday!Happy Sunday!Happy Sunday!Happy Sunday!Happy Sunday!Happy Sunday!Happy Sunday!Happy Sunday!Happy Sunday!Happy Sunday!Happy Sunday!Happy Sunday!Happy Sunday!Happy Sunday!Happy Sunday!Happy Sunday!Happy Sunday!Happy Sunday!Happy Sunday!Happy Sunday!Happy Sunday!Happy Sunday!Happy Sunday!Happy Sunday!Happy Sunday!Happy Sunday!Happy Sunday!Happy Sunday!Happy Sunday!Happy Sunday!Happy Sunday!Happy Sunday!Happy Sunday!Happy Sunday!Happy Sunday!Happy Sunday!Happy Sunday!Happy Sunday!Happy Sunday!Happy Sunday!Happy Sunday!Happy Sunday!Happy Sunday!Happy Sunday!Happy Sunday!Happy Sunday!Happy Sunday!Happy Sunday!Happy Sunday!Happy Sunday!Happy Sunday!Happy Sunday!Happy Sunday!Happy Sunday!Happy Sunday!Happy Sunday!Happy Sunday!Happy Sunday!Happy Sunday!Happy Sunday!Happy Sunday!Happy Sunday!Happy Sunday!Happy Sunday!Happy Sunday!Happy Sunday!Happy Sunday!Happy Sunday!Happy Sunday!Happy Sunday!Happy Sunday!Happy Sunday!Happy Sunday!Happy Sunday!Happy Sunday!'"
      ]
     },
     "execution_count": 44,
     "metadata": {},
     "output_type": "execute_result"
    }
   ],
   "source": [
    "i * 100"
   ]
  },
  {
   "cell_type": "code",
   "execution_count": null,
   "id": "7ba2d784",
   "metadata": {},
   "outputs": [],
   "source": []
  }
 ],
 "metadata": {
  "kernelspec": {
   "display_name": "Python 3 (ipykernel)",
   "language": "python",
   "name": "python3"
  },
  "language_info": {
   "codemirror_mode": {
    "name": "ipython",
    "version": 3
   },
   "file_extension": ".py",
   "mimetype": "text/x-python",
   "name": "python",
   "nbconvert_exporter": "python",
   "pygments_lexer": "ipython3",
   "version": "3.9.13"
  }
 },
 "nbformat": 4,
 "nbformat_minor": 5
}
